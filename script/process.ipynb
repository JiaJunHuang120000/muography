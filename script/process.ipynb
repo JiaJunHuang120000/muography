{
 "cells": [
  {
   "cell_type": "code",
   "execution_count": 94,
   "id": "de4bdd55-9ab8-43ce-b1ce-5473cc09c187",
   "metadata": {},
   "outputs": [],
   "source": [
    "import uproot as ur\n",
    "import os\n",
    "import fnmatch"
   ]
  },
  {
   "cell_type": "code",
   "execution_count": 95,
   "id": "62909b17-57b6-452e-b79c-f7b6ad3679cb",
   "metadata": {},
   "outputs": [
    {
     "name": "stdout",
     "output_type": "stream",
     "text": [
      "Processing: nine_detector_target_0_filter.root; # Events: 63492\n",
      "Processing: nine_detector_target_1_filter.root; # Events: 49906\n",
      "Processing: nine_detector_target_2_filter.root; # Events: 26841\n",
      "Processing: nine_detector_target_3_filter.root; # Events: 63415\n",
      "Processing: nine_detector_target_4_filter.root; # Events: 58287\n",
      "Processing: nine_detector_target_5_filter.root; # Events: 832\n",
      "Processing: nine_detector_target_6_filter.root; # Events: 63622\n",
      "Processing: nine_detector_target_7_filter.root; # Events: 50082\n",
      "Processing: nine_detector_target_8_filter.root; # Events: 27094\n",
      "Processing: nine_detector_free_0_filter.root; # Events: 63438\n",
      "Processing: nine_detector_free_1_filter.root; # Events: 49730\n",
      "Processing: nine_detector_free_2_filter.root; # Events: 26699\n",
      "Processing: nine_detector_free_3_filter.root; # Events: 63425\n",
      "Processing: nine_detector_free_4_filter.root; # Events: 58217\n",
      "Processing: nine_detector_free_5_filter.root; # Events: 789\n",
      "Processing: nine_detector_free_6_filter.root; # Events: 63592\n",
      "Processing: nine_detector_free_7_filter.root; # Events: 49812\n",
      "Processing: nine_detector_free_8_filter.root; # Events: 26658\n"
     ]
    }
   ],
   "source": [
    "files = sorted(os.listdir('data/'))\n",
    "target_files = fnmatch.filter(files, \"nine_detector_target_*_filter.root\")\n",
    "free_files   = fnmatch.filter(files, \"nine_detector_free_*_filter.root\")\n",
    "title = ['target', 'free']\n",
    "for j, set in enumerate([target_files,free_files]):\n",
    "    with ur.recreate(f'~/muography/data/nine_detector_{title[j]}_merge_Ecut.root') as fout:\n",
    "        fout.mktree(\"events\", {\n",
    "            \"Detector\": \"int32\",\n",
    "            \"MuographyHits.energy\": \"var * float32\",\n",
    "            \"MuographyHits.position.x\": \"var * float32\",\n",
    "            \"MuographyHits.position.y\": \"var * float32\",\n",
    "            \"MuographyHits.position.z\": \"var * float32\",\n",
    "            \"MCParticles.momentum.x\": \"var * float32\",\n",
    "            \"MCParticles.momentum.y\": \"var * float32\",\n",
    "            \"MCParticles.momentum.z\": \"var * float32\",\n",
    "            \"MCParticles.mass\": \"var * float32\"\n",
    "        })\n",
    "        for i, file in enumerate(set):\n",
    "            \n",
    "            with ur.open('data/'+file+\":events\") as f:\n",
    "                arrays = f.arrays(filter_name=[\"MuographyHits*.energy\", \"MuographyHits*.position.x\", \"MuographyHits*.position.y\", \"MuographyHits*.position.z\", \"MCParticles.generatorStatus\", \"MCParticles.momentum.x\", \"MCParticles.momentum.y\", \"MCParticles.momentum.z\", \"MCParticles.mass\"])\n",
    "            arrays[\"Detector\"] = ak.Array([i] * len(arrays))\n",
    "            data_cell_cut = ak.num(arrays[f'MuographyHits{i}.energy'], axis=1) >= 2\n",
    "            print(f'Processing: {file}; # Events: {len(arrays[data_cell_cut])}')\n",
    "            branches = {\n",
    "                \"Detector\": arrays[\"Detector\"][data_cell_cut],\n",
    "                \"MuographyHits.position.x\": arrays[f\"MuographyHits{i}.position.x\"][data_cell_cut],\n",
    "                \"MuographyHits.position.y\": arrays[f\"MuographyHits{i}.position.y\"][data_cell_cut],\n",
    "                \"MuographyHits.position.z\": arrays[f\"MuographyHits{i}.position.z\"][data_cell_cut],\n",
    "                \"MuographyHits.energy\": arrays[f\"MuographyHits{i}.energy\"][data_cell_cut],\n",
    "                \"MCParticles.mass\": arrays[\"MCParticles.mass\"][arrays[\"MCParticles.generatorStatus\"]==1][data_cell_cut],\n",
    "                \"MCParticles.momentum.x\": arrays[\"MCParticles.momentum.x\"][arrays[\"MCParticles.generatorStatus\"]==1][data_cell_cut],\n",
    "                \"MCParticles.momentum.y\": arrays[\"MCParticles.momentum.y\"][arrays[\"MCParticles.generatorStatus\"]==1][data_cell_cut],\n",
    "                \"MCParticles.momentum.z\": arrays[\"MCParticles.momentum.z\"][arrays[\"MCParticles.generatorStatus\"]==1][data_cell_cut]\n",
    "            }\n",
    "            fout['events'].extend(branches)"
   ]
  },
  {
   "cell_type": "code",
   "execution_count": null,
   "id": "44732507-5de7-4c7a-b8a3-a1a7ca1db874",
   "metadata": {},
   "outputs": [],
   "source": []
  }
 ],
 "metadata": {
  "kernelspec": {
   "display_name": "Python 3 (ipykernel)",
   "language": "python",
   "name": "python3"
  },
  "language_info": {
   "codemirror_mode": {
    "name": "ipython",
    "version": 3
   },
   "file_extension": ".py",
   "mimetype": "text/x-python",
   "name": "python",
   "nbconvert_exporter": "python",
   "pygments_lexer": "ipython3",
   "version": "3.8.10"
  }
 },
 "nbformat": 4,
 "nbformat_minor": 5
}
